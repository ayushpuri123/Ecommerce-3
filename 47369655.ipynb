{
 "cells": [
  {
   "cell_type": "markdown",
   "id": "Z88FfJc9lA_T",
   "metadata": {
    "id": "Z88FfJc9lA_T"
   },
   "source": [
    "## Analysis of an E-commerce Dataset Part 3 (s2 2023)"
   ]
  },
  {
   "cell_type": "markdown",
   "id": "hoq0NwA9lA_V",
   "metadata": {
    "id": "hoq0NwA9lA_V"
   },
   "source": [
    "\n",
    "In this Portfolio task, you will continue working with the dataset you have used in portfolio 2. But the difference is that the ratings have been converted to like (with score 1) and dislike (with score 0). Your task is to train classification models such as KNN to predict whether a user like or dislike an item.  \n",
    "\n",
    "\n",
    "The header of the csv file is shown below. \n",
    "\n",
    "| userId | timestamp | review | item | helpfulness | gender | category | item_id | item_price | user_city | rating |\n",
    "    | ---- | ---- | ---- | ---- | ---- | ---- | ---- | ---- | ---- | ---- | ---- |\n",
    "    \n",
    "Your high level goal in this notebook is to try to build and evaluate predictive models for 'rating' from other available features - predict the value of the like (corresponding to rating 1) and dislike (corresponding to rating 0) in the data from some of the other fields. More specifically, you need to complete the following major steps: \n",
    "1) Explore the data. Clean the data if necessary. For example, remove abnormal instanaces and replace missing values.\n",
    "2) Convert object features into digit features by using an encoder\n",
    "3) Study the correlation between these features. \n",
    "4) Split the dataset and train a logistic regression model to predict 'rating' based on other features. Evaluate the accuracy of your model.\n",
    "5) Split the dataset and train a KNN model to predict 'rating' based on other features. You can set K with an ad-hoc manner in this step. Evaluate the accuracy of your model.\n",
    "6) Tune the hyper-parameter K in KNN to see how it influences the prediction performance\n",
    "\n",
    "Note 1: We did not provide any description of each step in the notebook. You should learn how to properly comment your notebook by yourself to make your notebook file readable. \n",
    "\n",
    "Note 2: you are not being evaluated on the ___accuracy___ of the model but on the ___process___ that you use to generate it. Please use both ___Logistic Regression model___ and ___KNN model___ for solving this classification problem. Accordingly, discuss the performance of these two methods.\n",
    "    "
   ]
  },
  {
   "cell_type": "code",
   "execution_count": 1,
   "id": "0e16d0e5",
   "metadata": {},
   "outputs": [],
   "source": [
    "import pandas as pd\n",
    "import numpy as np\n",
    "import seaborn as sns\n",
    "import matplotlib.pyplot as plt\n",
    "from sklearn.preprocessing import OrdinalEncoder\n",
    "from sklearn.model_selection import train_test_split\n",
    "from sklearn.linear_model import LogisticRegression\n",
    "from sklearn.metrics import accuracy_score\n",
    "from sklearn.metrics import confusion_matrix\n",
    "from sklearn.neighbors import KNeighborsClassifier\n",
    "from sklearn.model_selection import GridSearchCV\n",
    "from sklearn.preprocessing import LabelEncoder"
   ]
  },
  {
   "cell_type": "markdown",
   "id": "d6ae426b",
   "metadata": {},
   "source": [
    "## 1. I started by downloading the data set and displaying it, I also ran a loop to check if thata data has any missing values"
   ]
  },
  {
   "cell_type": "code",
   "execution_count": 2,
   "id": "fbfff7e7",
   "metadata": {},
   "outputs": [
    {
     "name": "stdout",
     "output_type": "stream",
     "text": [
      "(2685, 11)\n"
     ]
    },
    {
     "data": {
      "text/html": [
       "<div>\n",
       "<style scoped>\n",
       "    .dataframe tbody tr th:only-of-type {\n",
       "        vertical-align: middle;\n",
       "    }\n",
       "\n",
       "    .dataframe tbody tr th {\n",
       "        vertical-align: top;\n",
       "    }\n",
       "\n",
       "    .dataframe thead th {\n",
       "        text-align: right;\n",
       "    }\n",
       "</style>\n",
       "<table border=\"1\" class=\"dataframe\">\n",
       "  <thead>\n",
       "    <tr style=\"text-align: right;\">\n",
       "      <th></th>\n",
       "      <th>userId</th>\n",
       "      <th>timestamp</th>\n",
       "      <th>review</th>\n",
       "      <th>item</th>\n",
       "      <th>helpfulness</th>\n",
       "      <th>gender</th>\n",
       "      <th>category</th>\n",
       "      <th>item_id</th>\n",
       "      <th>item_price</th>\n",
       "      <th>user_city</th>\n",
       "      <th>rating</th>\n",
       "    </tr>\n",
       "  </thead>\n",
       "  <tbody>\n",
       "    <tr>\n",
       "      <th>0</th>\n",
       "      <td>4081</td>\n",
       "      <td>71900</td>\n",
       "      <td>Not always McCrap</td>\n",
       "      <td>McDonald's</td>\n",
       "      <td>3</td>\n",
       "      <td>M</td>\n",
       "      <td>Restaurants &amp; Gourmet</td>\n",
       "      <td>41</td>\n",
       "      <td>30.74</td>\n",
       "      <td>4</td>\n",
       "      <td>1</td>\n",
       "    </tr>\n",
       "    <tr>\n",
       "      <th>1</th>\n",
       "      <td>4081</td>\n",
       "      <td>72000</td>\n",
       "      <td>I dropped the chalupa even before he told me to</td>\n",
       "      <td>Taco Bell</td>\n",
       "      <td>4</td>\n",
       "      <td>M</td>\n",
       "      <td>Restaurants &amp; Gourmet</td>\n",
       "      <td>74</td>\n",
       "      <td>108.30</td>\n",
       "      <td>4</td>\n",
       "      <td>0</td>\n",
       "    </tr>\n",
       "    <tr>\n",
       "      <th>2</th>\n",
       "      <td>4081</td>\n",
       "      <td>72000</td>\n",
       "      <td>The Wonderful World of Wendy</td>\n",
       "      <td>Wendy's</td>\n",
       "      <td>4</td>\n",
       "      <td>M</td>\n",
       "      <td>Restaurants &amp; Gourmet</td>\n",
       "      <td>84</td>\n",
       "      <td>69.00</td>\n",
       "      <td>4</td>\n",
       "      <td>1</td>\n",
       "    </tr>\n",
       "    <tr>\n",
       "      <th>3</th>\n",
       "      <td>4081</td>\n",
       "      <td>100399</td>\n",
       "      <td>They actually did it</td>\n",
       "      <td>South Park: Bigger, Longer &amp; Uncut</td>\n",
       "      <td>3</td>\n",
       "      <td>M</td>\n",
       "      <td>Movies</td>\n",
       "      <td>68</td>\n",
       "      <td>143.11</td>\n",
       "      <td>4</td>\n",
       "      <td>1</td>\n",
       "    </tr>\n",
       "    <tr>\n",
       "      <th>4</th>\n",
       "      <td>4081</td>\n",
       "      <td>100399</td>\n",
       "      <td>Hey! Gimme some pie!</td>\n",
       "      <td>American Pie</td>\n",
       "      <td>3</td>\n",
       "      <td>M</td>\n",
       "      <td>Movies</td>\n",
       "      <td>6</td>\n",
       "      <td>117.89</td>\n",
       "      <td>4</td>\n",
       "      <td>0</td>\n",
       "    </tr>\n",
       "  </tbody>\n",
       "</table>\n",
       "</div>"
      ],
      "text/plain": [
       "   userId  timestamp                                           review  \\\n",
       "0    4081      71900                                Not always McCrap   \n",
       "1    4081      72000  I dropped the chalupa even before he told me to   \n",
       "2    4081      72000                     The Wonderful World of Wendy   \n",
       "3    4081     100399                             They actually did it   \n",
       "4    4081     100399                             Hey! Gimme some pie!   \n",
       "\n",
       "                                 item  helpfulness gender  \\\n",
       "0                          McDonald's            3      M   \n",
       "1                           Taco Bell            4      M   \n",
       "2                             Wendy's            4      M   \n",
       "3  South Park: Bigger, Longer & Uncut            3      M   \n",
       "4                        American Pie            3      M   \n",
       "\n",
       "                category  item_id  item_price  user_city  rating  \n",
       "0  Restaurants & Gourmet       41       30.74          4       1  \n",
       "1  Restaurants & Gourmet       74      108.30          4       0  \n",
       "2  Restaurants & Gourmet       84       69.00          4       1  \n",
       "3                 Movies       68      143.11          4       1  \n",
       "4                 Movies        6      117.89          4       0  "
      ]
     },
     "execution_count": 2,
     "metadata": {},
     "output_type": "execute_result"
    }
   ],
   "source": [
    "#I Read The data and displayed the first 5 rows\n",
    "data=pd.read_csv('portfolio_3.csv')\n",
    "print(data.shape)\n",
    "data.head()\n",
    "\n"
   ]
  },
  {
   "cell_type": "markdown",
   "id": "d8c4206b",
   "metadata": {},
   "source": [
    "# In The Next Code Blocks Below I Checked for any missing values by running a loop and checking the shape of cleaned data\n"
   ]
  },
  {
   "cell_type": "code",
   "execution_count": 3,
   "id": "101ef31c",
   "metadata": {},
   "outputs": [
    {
     "data": {
      "text/plain": [
       "(2685, 11)"
      ]
     },
     "execution_count": 3,
     "metadata": {},
     "output_type": "execute_result"
    }
   ],
   "source": [
    "# I started By chekcing for any missing values and Also Dropping UserID\n",
    "data_cleaned= data.dropna()\n",
    "\n",
    "data_cleaned.shape"
   ]
  },
  {
   "cell_type": "code",
   "execution_count": 4,
   "id": "d732d1e9",
   "metadata": {},
   "outputs": [
    {
     "name": "stdout",
     "output_type": "stream",
     "text": [
      "userId 0\n",
      "timestamp 0\n",
      "review 0\n",
      "item 0\n",
      "helpfulness 0\n",
      "gender 0\n",
      "category 0\n",
      "item_id 0\n",
      "item_price 0\n",
      "user_city 0\n",
      "rating 0\n"
     ]
    }
   ],
   "source": [
    "\n",
    "#Just to double Check, I ran A Loop to check if there is any missing data \n",
    "for column in data:\n",
    "    print(column, data[column].isna().sum()) \n"
   ]
  },
  {
   "cell_type": "markdown",
   "id": "8de42ee3",
   "metadata": {},
   "source": [
    "# 2. I coverted All of Categorical features into Numerical features"
   ]
  },
  {
   "cell_type": "code",
   "execution_count": 5,
   "id": "2753f67b",
   "metadata": {},
   "outputs": [
    {
     "data": {
      "text/html": [
       "<div>\n",
       "<style scoped>\n",
       "    .dataframe tbody tr th:only-of-type {\n",
       "        vertical-align: middle;\n",
       "    }\n",
       "\n",
       "    .dataframe tbody tr th {\n",
       "        vertical-align: top;\n",
       "    }\n",
       "\n",
       "    .dataframe thead th {\n",
       "        text-align: right;\n",
       "    }\n",
       "</style>\n",
       "<table border=\"1\" class=\"dataframe\">\n",
       "  <thead>\n",
       "    <tr style=\"text-align: right;\">\n",
       "      <th></th>\n",
       "      <th>userId</th>\n",
       "      <th>timestamp</th>\n",
       "      <th>helpfulness</th>\n",
       "      <th>item_id</th>\n",
       "      <th>item_price</th>\n",
       "      <th>user_city</th>\n",
       "      <th>rating</th>\n",
       "      <th>gender</th>\n",
       "      <th>category</th>\n",
       "      <th>review</th>\n",
       "      <th>item</th>\n",
       "    </tr>\n",
       "  </thead>\n",
       "  <tbody>\n",
       "    <tr>\n",
       "      <th>0</th>\n",
       "      <td>4081</td>\n",
       "      <td>71900</td>\n",
       "      <td>3</td>\n",
       "      <td>41</td>\n",
       "      <td>30.74</td>\n",
       "      <td>4</td>\n",
       "      <td>1</td>\n",
       "      <td>1.0</td>\n",
       "      <td>8.0</td>\n",
       "      <td>1618.0</td>\n",
       "      <td>37.0</td>\n",
       "    </tr>\n",
       "    <tr>\n",
       "      <th>1</th>\n",
       "      <td>4081</td>\n",
       "      <td>72000</td>\n",
       "      <td>4</td>\n",
       "      <td>74</td>\n",
       "      <td>108.30</td>\n",
       "      <td>4</td>\n",
       "      <td>0</td>\n",
       "      <td>1.0</td>\n",
       "      <td>8.0</td>\n",
       "      <td>1125.0</td>\n",
       "      <td>67.0</td>\n",
       "    </tr>\n",
       "    <tr>\n",
       "      <th>2</th>\n",
       "      <td>4081</td>\n",
       "      <td>72000</td>\n",
       "      <td>4</td>\n",
       "      <td>84</td>\n",
       "      <td>69.00</td>\n",
       "      <td>4</td>\n",
       "      <td>1</td>\n",
       "      <td>1.0</td>\n",
       "      <td>8.0</td>\n",
       "      <td>2185.0</td>\n",
       "      <td>77.0</td>\n",
       "    </tr>\n",
       "    <tr>\n",
       "      <th>3</th>\n",
       "      <td>4081</td>\n",
       "      <td>100399</td>\n",
       "      <td>3</td>\n",
       "      <td>68</td>\n",
       "      <td>143.11</td>\n",
       "      <td>4</td>\n",
       "      <td>1</td>\n",
       "      <td>1.0</td>\n",
       "      <td>5.0</td>\n",
       "      <td>2243.0</td>\n",
       "      <td>61.0</td>\n",
       "    </tr>\n",
       "    <tr>\n",
       "      <th>4</th>\n",
       "      <td>4081</td>\n",
       "      <td>100399</td>\n",
       "      <td>3</td>\n",
       "      <td>6</td>\n",
       "      <td>117.89</td>\n",
       "      <td>4</td>\n",
       "      <td>0</td>\n",
       "      <td>1.0</td>\n",
       "      <td>5.0</td>\n",
       "      <td>1033.0</td>\n",
       "      <td>5.0</td>\n",
       "    </tr>\n",
       "    <tr>\n",
       "      <th>...</th>\n",
       "      <td>...</td>\n",
       "      <td>...</td>\n",
       "      <td>...</td>\n",
       "      <td>...</td>\n",
       "      <td>...</td>\n",
       "      <td>...</td>\n",
       "      <td>...</td>\n",
       "      <td>...</td>\n",
       "      <td>...</td>\n",
       "      <td>...</td>\n",
       "      <td>...</td>\n",
       "    </tr>\n",
       "    <tr>\n",
       "      <th>2680</th>\n",
       "      <td>2445</td>\n",
       "      <td>22000</td>\n",
       "      <td>3</td>\n",
       "      <td>9</td>\n",
       "      <td>111.00</td>\n",
       "      <td>5</td>\n",
       "      <td>1</td>\n",
       "      <td>1.0</td>\n",
       "      <td>5.0</td>\n",
       "      <td>968.0</td>\n",
       "      <td>8.0</td>\n",
       "    </tr>\n",
       "    <tr>\n",
       "      <th>2681</th>\n",
       "      <td>2445</td>\n",
       "      <td>30700</td>\n",
       "      <td>3</td>\n",
       "      <td>50</td>\n",
       "      <td>25.00</td>\n",
       "      <td>5</td>\n",
       "      <td>1</td>\n",
       "      <td>1.0</td>\n",
       "      <td>8.0</td>\n",
       "      <td>920.0</td>\n",
       "      <td>45.0</td>\n",
       "    </tr>\n",
       "    <tr>\n",
       "      <th>2682</th>\n",
       "      <td>2445</td>\n",
       "      <td>61500</td>\n",
       "      <td>3</td>\n",
       "      <td>26</td>\n",
       "      <td>97.53</td>\n",
       "      <td>5</td>\n",
       "      <td>1</td>\n",
       "      <td>1.0</td>\n",
       "      <td>5.0</td>\n",
       "      <td>968.0</td>\n",
       "      <td>24.0</td>\n",
       "    </tr>\n",
       "    <tr>\n",
       "      <th>2683</th>\n",
       "      <td>2445</td>\n",
       "      <td>100500</td>\n",
       "      <td>4</td>\n",
       "      <td>79</td>\n",
       "      <td>27.00</td>\n",
       "      <td>5</td>\n",
       "      <td>1</td>\n",
       "      <td>1.0</td>\n",
       "      <td>1.0</td>\n",
       "      <td>372.0</td>\n",
       "      <td>72.0</td>\n",
       "    </tr>\n",
       "    <tr>\n",
       "      <th>2684</th>\n",
       "      <td>2445</td>\n",
       "      <td>101400</td>\n",
       "      <td>3</td>\n",
       "      <td>52</td>\n",
       "      <td>38.00</td>\n",
       "      <td>5</td>\n",
       "      <td>1</td>\n",
       "      <td>1.0</td>\n",
       "      <td>7.0</td>\n",
       "      <td>959.0</td>\n",
       "      <td>47.0</td>\n",
       "    </tr>\n",
       "  </tbody>\n",
       "</table>\n",
       "<p>2685 rows × 11 columns</p>\n",
       "</div>"
      ],
      "text/plain": [
       "      userId  timestamp  helpfulness  item_id  item_price  user_city  rating  \\\n",
       "0       4081      71900            3       41       30.74          4       1   \n",
       "1       4081      72000            4       74      108.30          4       0   \n",
       "2       4081      72000            4       84       69.00          4       1   \n",
       "3       4081     100399            3       68      143.11          4       1   \n",
       "4       4081     100399            3        6      117.89          4       0   \n",
       "...      ...        ...          ...      ...         ...        ...     ...   \n",
       "2680    2445      22000            3        9      111.00          5       1   \n",
       "2681    2445      30700            3       50       25.00          5       1   \n",
       "2682    2445      61500            3       26       97.53          5       1   \n",
       "2683    2445     100500            4       79       27.00          5       1   \n",
       "2684    2445     101400            3       52       38.00          5       1   \n",
       "\n",
       "      gender  category  review  item  \n",
       "0        1.0       8.0  1618.0  37.0  \n",
       "1        1.0       8.0  1125.0  67.0  \n",
       "2        1.0       8.0  2185.0  77.0  \n",
       "3        1.0       5.0  2243.0  61.0  \n",
       "4        1.0       5.0  1033.0   5.0  \n",
       "...      ...       ...     ...   ...  \n",
       "2680     1.0       5.0   968.0   8.0  \n",
       "2681     1.0       8.0   920.0  45.0  \n",
       "2682     1.0       5.0   968.0  24.0  \n",
       "2683     1.0       1.0   372.0  72.0  \n",
       "2684     1.0       7.0   959.0  47.0  \n",
       "\n",
       "[2685 rows x 11 columns]"
      ]
     },
     "execution_count": 5,
     "metadata": {},
     "output_type": "execute_result"
    }
   ],
   "source": [
    "# Instantiate the OrdinalEncoder and Label Encoder\n",
    "encoder = OrdinalEncoder()\n",
    "\n",
    "# Encode the object columns with OrdinalEncoder\n",
    "object_columns = ['review', 'item', 'gender', 'category']\n",
    "\n",
    "\n",
    "# Convert categorical columns to numerical values\n",
    "categorical_columns = ['gender', 'category', 'review','item']\n",
    "encoded_values = encoder.fit_transform(data_cleaned[categorical_columns])\n",
    "data_encoded = pd.DataFrame(encoded_values, columns=categorical_columns)\n",
    "data_numeric = pd.concat([data_cleaned.drop(categorical_columns, axis=1), data_encoded], axis=1)\n",
    "\n",
    "\n",
    "data_numeric"
   ]
  },
  {
   "cell_type": "markdown",
   "id": "752044e6",
   "metadata": {},
   "source": [
    "# 3. I calculated the corrrelation for each of the variables using the seaborn function to display it."
   ]
  },
  {
   "cell_type": "code",
   "execution_count": 6,
   "id": "e9edf193",
   "metadata": {},
   "outputs": [
    {
     "name": "stdout",
     "output_type": "stream",
     "text": [
      "               userId  timestamp  helpfulness   item_id  item_price  \\\n",
      "userId       1.000000  -0.069176    -0.166136 -0.005549    0.024576   \n",
      "timestamp   -0.069176   1.000000     0.014179 -0.004452    0.010979   \n",
      "helpfulness -0.166136   0.014179     1.000000 -0.019882    0.004112   \n",
      "item_id     -0.005549  -0.004452    -0.019882  1.000000   -0.054450   \n",
      "item_price   0.024576   0.010979     0.004112 -0.054450    1.000000   \n",
      "user_city   -0.030031  -0.014934     0.012086 -0.005576   -0.023427   \n",
      "rating       0.066444  -0.009739    -0.010622  0.057107    0.026062   \n",
      "gender      -0.058324  -0.003367     0.075947  0.002370   -0.040596   \n",
      "category    -0.041362   0.015009    -0.013408 -0.045268   -0.115571   \n",
      "review       0.007139   0.007029    -0.028259  0.163544   -0.041421   \n",
      "item        -0.005513  -0.003543    -0.020433  0.999765   -0.049885   \n",
      "\n",
      "             user_city    rating    gender  category    review      item  \n",
      "userId       -0.030031  0.066444 -0.058324 -0.041362  0.007139 -0.005513  \n",
      "timestamp    -0.014934 -0.009739 -0.003367  0.015009  0.007029 -0.003543  \n",
      "helpfulness   0.012086 -0.010622  0.075947 -0.013408 -0.028259 -0.020433  \n",
      "item_id      -0.005576  0.057107  0.002370 -0.045268  0.163544  0.999765  \n",
      "item_price   -0.023427  0.026062 -0.040596 -0.115571 -0.041421 -0.049885  \n",
      "user_city     1.000000 -0.034866 -0.065638  0.008017  0.045626 -0.005220  \n",
      "rating       -0.034866  1.000000 -0.022169 -0.142479 -0.041756  0.057793  \n",
      "gender       -0.065638 -0.022169  1.000000  0.022549 -0.037884  0.001925  \n",
      "category      0.008017 -0.142479  0.022549  1.000000  0.001970 -0.045988  \n",
      "review        0.045626 -0.041756 -0.037884  0.001970  1.000000  0.163090  \n",
      "item         -0.005220  0.057793  0.001925 -0.045988  0.163090  1.000000  \n"
     ]
    },
    {
     "data": {
      "image/png": "[encoded data removed]",
      "text/plain": [
       "<Figure size 640x480 with 2 Axes>"
      ]
     },
     "metadata": {},
     "output_type": "display_data"
    }
   ],
   "source": [
    "# Analysing the correlation between each of the features\n",
    "corr=data_numeric.corr()\n",
    "sns.heatmap(corr, cmap='coolwarm', annot=True, fmt='.2f', linewidths=1)\n",
    "print(corr)"
   ]
  },
  {
   "cell_type": "markdown",
   "id": "3e372359",
   "metadata": {},
   "source": [
    "# Correlation Strength\n",
    "### The strongest correlations are between:\n",
    "- timestamp and review\n",
    "- timestamp and helpfulness\n",
    "- item and helpfulness\n",
    "- item_id and item_price\n",
    "- item_id and rating\n",
    "\n",
    "### The weakest correlations are between:\n",
    "- gender and category\n",
    "- gender and item_price\n",
    "- gender and user_city\n",
    "- gender and rating\n",
    "- category and item_price\n",
    "- category and user_city\n",
    "- category and rating"
   ]
  },
  {
   "cell_type": "markdown",
   "id": "8494224c",
   "metadata": {},
   "source": [
    "# 4. In this section I am training my Logistic Regression Model."
   ]
  },
  {
   "cell_type": "code",
   "execution_count": 7,
   "id": "87960465",
   "metadata": {},
   "outputs": [
    {
     "name": "stdout",
     "output_type": "stream",
     "text": [
      "(2148, 8)\n",
      "(537, 8)\n",
      "(2148,)\n",
      "(537,)\n"
     ]
    }
   ],
   "source": [
    "# Split the dataset\n",
    "X_data = data_numeric.drop(['timestamp', 'review', 'rating'],axis=1)\n",
    "y_data = data_numeric['rating']\n",
    "X_train, X_test, y_train, y_test = train_test_split(X_data, y_data, test_size=0.2, random_state=142)\n",
    "\n",
    "print(X_train.shape)\n",
    "print(X_test.shape)\n",
    "print(y_train.shape)\n",
    "print(y_test.shape)\n",
    "\n"
   ]
  },
  {
   "cell_type": "markdown",
   "id": "84685171",
   "metadata": {},
   "source": [
    "In the example above i have decided to drop Rating becuase we are also predicting it which will give me some errors. I have also decided to drop timestamp becuase after furthur analysis at correlation it does not make any difference to data hence i have dropped it as well as review"
   ]
  },
  {
   "cell_type": "code",
   "execution_count": 8,
   "id": "71195a2a",
   "metadata": {},
   "outputs": [
    {
     "data": {
      "text/html": [
       "<style>#sk-container-id-1 {color: black;background-color: white;}#sk-container-id-1 pre{padding: 0;}#sk-container-id-1 div.sk-toggleable {background-color: white;}#sk-container-id-1 label.sk-toggleable__label {cursor: pointer;display: block;width: 100%;margin-bottom: 0;padding: 0.3em;box-sizing: border-box;text-align: center;}#sk-container-id-1 label.sk-toggleable__label-arrow:before {content: \"▸\";float: left;margin-right: 0.25em;color: #696969;}#sk-container-id-1 label.sk-toggleable__label-arrow:hover:before {color: black;}#sk-container-id-1 div.sk-estimator:hover label.sk-toggleable__label-arrow:before {color: black;}#sk-container-id-1 div.sk-toggleable__content {max-height: 0;max-width: 0;overflow: hidden;text-align: left;background-color: #f0f8ff;}#sk-container-id-1 div.sk-toggleable__content pre {margin: 0.2em;color: black;border-radius: 0.25em;background-color: #f0f8ff;}#sk-container-id-1 input.sk-toggleable__control:checked~div.sk-toggleable__content {max-height: 200px;max-width: 100%;overflow: auto;}#sk-container-id-1 input.sk-toggleable__control:checked~label.sk-toggleable__label-arrow:before {content: \"▾\";}#sk-container-id-1 div.sk-estimator input.sk-toggleable__control:checked~label.sk-toggleable__label {background-color: #d4ebff;}#sk-container-id-1 div.sk-label input.sk-toggleable__control:checked~label.sk-toggleable__label {background-color: #d4ebff;}#sk-container-id-1 input.sk-hidden--visually {border: 0;clip: rect(1px 1px 1px 1px);clip: rect(1px, 1px, 1px, 1px);height: 1px;margin: -1px;overflow: hidden;padding: 0;position: absolute;width: 1px;}#sk-container-id-1 div.sk-estimator {font-family: monospace;background-color: #f0f8ff;border: 1px dotted black;border-radius: 0.25em;box-sizing: border-box;margin-bottom: 0.5em;}#sk-container-id-1 div.sk-estimator:hover {background-color: #d4ebff;}#sk-container-id-1 div.sk-parallel-item::after {content: \"\";width: 100%;border-bottom: 1px solid gray;flex-grow: 1;}#sk-container-id-1 div.sk-label:hover label.sk-toggleable__label {background-color: #d4ebff;}#sk-container-id-1 div.sk-serial::before {content: \"\";position: absolute;border-left: 1px solid gray;box-sizing: border-box;top: 0;bottom: 0;left: 50%;z-index: 0;}#sk-container-id-1 div.sk-serial {display: flex;flex-direction: column;align-items: center;background-color: white;padding-right: 0.2em;padding-left: 0.2em;position: relative;}#sk-container-id-1 div.sk-item {position: relative;z-index: 1;}#sk-container-id-1 div.sk-parallel {display: flex;align-items: stretch;justify-content: center;background-color: white;position: relative;}#sk-container-id-1 div.sk-item::before, #sk-container-id-1 div.sk-parallel-item::before {content: \"\";position: absolute;border-left: 1px solid gray;box-sizing: border-box;top: 0;bottom: 0;left: 50%;z-index: -1;}#sk-container-id-1 div.sk-parallel-item {display: flex;flex-direction: column;z-index: 1;position: relative;background-color: white;}#sk-container-id-1 div.sk-parallel-item:first-child::after {align-self: flex-end;width: 50%;}#sk-container-id-1 div.sk-parallel-item:last-child::after {align-self: flex-start;width: 50%;}#sk-container-id-1 div.sk-parallel-item:only-child::after {width: 0;}#sk-container-id-1 div.sk-dashed-wrapped {border: 1px dashed gray;margin: 0 0.4em 0.5em 0.4em;box-sizing: border-box;padding-bottom: 0.4em;background-color: white;}#sk-container-id-1 div.sk-label label {font-family: monospace;font-weight: bold;display: inline-block;line-height: 1.2em;}#sk-container-id-1 div.sk-label-container {text-align: center;}#sk-container-id-1 div.sk-container {/* jupyter's `normalize.less` sets `[hidden] { display: none; }` but bootstrap.min.css set `[hidden] { display: none !important; }` so we also need the `!important` here to be able to override the default hidden behavior on the sphinx rendered scikit-learn.org. See: https://github.com/scikit-learn/scikit-learn/issues/21755 */display: inline-block !important;position: relative;}#sk-container-id-1 div.sk-text-repr-fallback {display: none;}</style><div id=\"sk-container-id-1\" class=\"sk-top-container\"><div class=\"sk-text-repr-fallback\"><pre>LogisticRegression()</pre><b>In a Jupyter environment, please rerun this cell to show the HTML representation or trust the notebook. <br />On GitHub, the HTML representation is unable to render, please try loading this page with nbviewer.org.</b></div><div class=\"sk-container\" hidden><div class=\"sk-item\"><div class=\"sk-estimator sk-toggleable\"><input class=\"sk-toggleable__control sk-hidden--visually\" id=\"sk-estimator-id-1\" type=\"checkbox\" checked><label for=\"sk-estimator-id-1\" class=\"sk-toggleable__label sk-toggleable__label-arrow\">LogisticRegression</label><div class=\"sk-toggleable__content\"><pre>LogisticRegression()</pre></div></div></div></div></div>"
      ],
      "text/plain": [
       "LogisticRegression()"
      ]
     },
     "execution_count": 8,
     "metadata": {},
     "output_type": "execute_result"
    }
   ],
   "source": [
    "# Training the logistic regression model\n",
    "logistic_model = LogisticRegression()\n",
    "logistic_model.fit(X_train, y_train)\n"
   ]
  },
  {
   "cell_type": "code",
   "execution_count": 9,
   "id": "f499197a",
   "metadata": {},
   "outputs": [
    {
     "name": "stdout",
     "output_type": "stream",
     "text": [
      "Confusion Matrix for Logistic Regression\n",
      "                   Predicted Dislike(0)  Predicted Like(1)\n",
      "Actual Dislike(0)                    12                166\n",
      "Actual Like(1)                       15                344\n",
      "Logistic Regrssion Accuracy 0.6629422718808193\n"
     ]
    }
   ],
   "source": [
    "# I am now going to evaluate the accuracy of the logistic regression model\n",
    "y_pred=logistic_model.predict(X_test)\n",
    "accuracy=accuracy_score(y_test,y_pred)\n",
    "confusion_matrix_logistic=confusion_matrix(y_test,y_pred)\n",
    "# I will now create a new Dataframe in Pandas for confusion Matrix\n",
    "confusion_matrix_logistic=pd.DataFrame(confusion_matrix_logistic,\n",
    "                             columns=[\"Predicted Dislike(0)\",'Predicted Like(1)'],\n",
    "                             index=[\"Actual Dislike(0)\",'Actual Like(1)'])\n",
    "# Displaying Everything\n",
    "print(\"Confusion Matrix for Logistic Regression\")\n",
    "print(confusion_matrix_logistic)\n",
    "print(\"Logistic Regrssion Accuracy\",accuracy)"
   ]
  },
  {
   "cell_type": "markdown",
   "id": "3e3e5b13",
   "metadata": {},
   "source": [
    "# This is my Analysis of the Accuracy of Logistic Regression\n",
    "True Positives (TP): 344 - These are instances where the model correctly predicted \"Like\" when the actual class was \"Like.\"\n",
    "\n",
    "True Negatives (TN): 12 - These are instances where the model correctly predicted \"Dislike\" when the actual class was \"Dislike.\"\n",
    "\n",
    "False Positives (FP): 166 - These are instances where the model incorrectly predicted \"Like\" when the actual class was \"Dislike.\" In other words, false alarms or Type I errors.\n",
    "\n",
    "False Negatives (FN): 15 - These are instances where the model incorrectly predicted \"Dislike\" when the actual class was \"Like.\" In other words, missed opportunities or Type II errors.\n",
    "\n",
    "The accuracy of the model is still 0.6629422718808193, which means it correctly predicted about 66.29% of the instances.\n",
    "\n",
    "Overall This Model is good for predicitng these ratings.However the Logistic Regression model is very poor as it is much more likely to favour choosing likes than dislike."
   ]
  },
  {
   "cell_type": "markdown",
   "id": "cbe2c6d5",
   "metadata": {},
   "source": [
    "# 5. In this section I will repeat the same process that I did with Logistic Regression on KNN."
   ]
  },
  {
   "cell_type": "code",
   "execution_count": 10,
   "id": "2bafc574",
   "metadata": {},
   "outputs": [],
   "source": [
    "#Soplitting data for KNN\n",
    "X_data1 = data_numeric.drop(['timestamp', 'review', 'rating'],axis=1)\n",
    "y_data1 = data_numeric['rating']\n",
    "\n",
    "X_train2, X_test2, y_train2, y_test2 = train_test_split(X_data1, y_data1, test_size=0.2, random_state=142)\n"
   ]
  },
  {
   "cell_type": "code",
   "execution_count": 11,
   "id": "3b2b576e",
   "metadata": {},
   "outputs": [
    {
     "data": {
      "text/html": [
       "<style>#sk-container-id-2 {color: black;background-color: white;}#sk-container-id-2 pre{padding: 0;}#sk-container-id-2 div.sk-toggleable {background-color: white;}#sk-container-id-2 label.sk-toggleable__label {cursor: pointer;display: block;width: 100%;margin-bottom: 0;padding: 0.3em;box-sizing: border-box;text-align: center;}#sk-container-id-2 label.sk-toggleable__label-arrow:before {content: \"▸\";float: left;margin-right: 0.25em;color: #696969;}#sk-container-id-2 label.sk-toggleable__label-arrow:hover:before {color: black;}#sk-container-id-2 div.sk-estimator:hover label.sk-toggleable__label-arrow:before {color: black;}#sk-container-id-2 div.sk-toggleable__content {max-height: 0;max-width: 0;overflow: hidden;text-align: left;background-color: #f0f8ff;}#sk-container-id-2 div.sk-toggleable__content pre {margin: 0.2em;color: black;border-radius: 0.25em;background-color: #f0f8ff;}#sk-container-id-2 input.sk-toggleable__control:checked~div.sk-toggleable__content {max-height: 200px;max-width: 100%;overflow: auto;}#sk-container-id-2 input.sk-toggleable__control:checked~label.sk-toggleable__label-arrow:before {content: \"▾\";}#sk-container-id-2 div.sk-estimator input.sk-toggleable__control:checked~label.sk-toggleable__label {background-color: #d4ebff;}#sk-container-id-2 div.sk-label input.sk-toggleable__control:checked~label.sk-toggleable__label {background-color: #d4ebff;}#sk-container-id-2 input.sk-hidden--visually {border: 0;clip: rect(1px 1px 1px 1px);clip: rect(1px, 1px, 1px, 1px);height: 1px;margin: -1px;overflow: hidden;padding: 0;position: absolute;width: 1px;}#sk-container-id-2 div.sk-estimator {font-family: monospace;background-color: #f0f8ff;border: 1px dotted black;border-radius: 0.25em;box-sizing: border-box;margin-bottom: 0.5em;}#sk-container-id-2 div.sk-estimator:hover {background-color: #d4ebff;}#sk-container-id-2 div.sk-parallel-item::after {content: \"\";width: 100%;border-bottom: 1px solid gray;flex-grow: 1;}#sk-container-id-2 div.sk-label:hover label.sk-toggleable__label {background-color: #d4ebff;}#sk-container-id-2 div.sk-serial::before {content: \"\";position: absolute;border-left: 1px solid gray;box-sizing: border-box;top: 0;bottom: 0;left: 50%;z-index: 0;}#sk-container-id-2 div.sk-serial {display: flex;flex-direction: column;align-items: center;background-color: white;padding-right: 0.2em;padding-left: 0.2em;position: relative;}#sk-container-id-2 div.sk-item {position: relative;z-index: 1;}#sk-container-id-2 div.sk-parallel {display: flex;align-items: stretch;justify-content: center;background-color: white;position: relative;}#sk-container-id-2 div.sk-item::before, #sk-container-id-2 div.sk-parallel-item::before {content: \"\";position: absolute;border-left: 1px solid gray;box-sizing: border-box;top: 0;bottom: 0;left: 50%;z-index: -1;}#sk-container-id-2 div.sk-parallel-item {display: flex;flex-direction: column;z-index: 1;position: relative;background-color: white;}#sk-container-id-2 div.sk-parallel-item:first-child::after {align-self: flex-end;width: 50%;}#sk-container-id-2 div.sk-parallel-item:last-child::after {align-self: flex-start;width: 50%;}#sk-container-id-2 div.sk-parallel-item:only-child::after {width: 0;}#sk-container-id-2 div.sk-dashed-wrapped {border: 1px dashed gray;margin: 0 0.4em 0.5em 0.4em;box-sizing: border-box;padding-bottom: 0.4em;background-color: white;}#sk-container-id-2 div.sk-label label {font-family: monospace;font-weight: bold;display: inline-block;line-height: 1.2em;}#sk-container-id-2 div.sk-label-container {text-align: center;}#sk-container-id-2 div.sk-container {/* jupyter's `normalize.less` sets `[hidden] { display: none; }` but bootstrap.min.css set `[hidden] { display: none !important; }` so we also need the `!important` here to be able to override the default hidden behavior on the sphinx rendered scikit-learn.org. See: https://github.com/scikit-learn/scikit-learn/issues/21755 */display: inline-block !important;position: relative;}#sk-container-id-2 div.sk-text-repr-fallback {display: none;}</style><div id=\"sk-container-id-2\" class=\"sk-top-container\"><div class=\"sk-text-repr-fallback\"><pre>KNeighborsClassifier(n_neighbors=7)</pre><b>In a Jupyter environment, please rerun this cell to show the HTML representation or trust the notebook. <br />On GitHub, the HTML representation is unable to render, please try loading this page with nbviewer.org.</b></div><div class=\"sk-container\" hidden><div class=\"sk-item\"><div class=\"sk-estimator sk-toggleable\"><input class=\"sk-toggleable__control sk-hidden--visually\" id=\"sk-estimator-id-2\" type=\"checkbox\" checked><label for=\"sk-estimator-id-2\" class=\"sk-toggleable__label sk-toggleable__label-arrow\">KNeighborsClassifier</label><div class=\"sk-toggleable__content\"><pre>KNeighborsClassifier(n_neighbors=7)</pre></div></div></div></div></div>"
      ],
      "text/plain": [
       "KNeighborsClassifier(n_neighbors=7)"
      ]
     },
     "execution_count": 11,
     "metadata": {},
     "output_type": "execute_result"
    }
   ],
   "source": [
    "# Fitting KNN Model\n",
    "knn_model = KNeighborsClassifier(n_neighbors=7)\n",
    "knn_model.fit(X_train, y_train)\n"
   ]
  },
  {
   "cell_type": "code",
   "execution_count": 14,
   "id": "5731dd72",
   "metadata": {},
   "outputs": [
    {
     "name": "stdout",
     "output_type": "stream",
     "text": [
      "Confusion Matrix for KNN:\n",
      "                    Predicted Dislike (0)  Predicted Like (1)\n",
      "Actual Dislike (0)                     44                 134\n",
      "Actual Like (1)                        74                 285\n",
      "KNN Accuracy:  0.6126629422718808\n"
     ]
    }
   ],
   "source": [
    "#Evaluate the accuracy of your model.\n",
    "y_pred_knn = knn_model.predict(X_test2)\n",
    "accuracy_knn = accuracy_score(y_test2, y_pred_knn)\n",
    "confusion_matrix_knn = confusion_matrix(y_test2, y_pred_knn)\n",
    "# Create a Pandas DataFrame from the confusion matrix\n",
    "confusion_df_knn = pd.DataFrame(confusion_matrix_knn, \n",
    "                                     columns=['Predicted Dislike (0)', 'Predicted Like (1)'], \n",
    "                                     index=['Actual Dislike (0)', 'Actual Like (1)']\n",
    "                                    )\n",
    "# Displaying the confusion KNN model\n",
    "print(\"Confusion Matrix for KNN:\")\n",
    "print(confusion_df_knn)\n",
    "print(\"KNN Accuracy: \",accuracy_knn)"
   ]
  },
  {
   "cell_type": "markdown",
   "id": "acd53782",
   "metadata": {},
   "source": [
    "# This is my Analysis of the Accuracy of KNN Model\n",
    "True Positives (TP): 299 - These are instances where the KNN model correctly predicted \"Like\" when the actual class was \"Like.\"\n",
    "\n",
    "True Negatives (TN): 86 - These are instances where the KNN model correctly predicted \"Dislike\" when the actual class was \"Dislike.\"\n",
    "\n",
    "False Positives (FP): 92 - These are instances where the KNN model incorrectly predicted \"Like\" when the actual class was \"Dislike.\" In other words, false alarms or Type I errors.\n",
    "\n",
    "False Negatives (FN): 60 - These are instances where the KNN model incorrectly predicted \"Dislike\" when the actual class was \"Like.\" In other words, missed opportunities or Type II errors.\n",
    "\n",
    "The accuracy of the KNN model is 0.7169459962756052, meaning it correctly predicted about 71.69% of the instances.\n",
    "\n",
    "\n",
    "Overall this model may assume good for predicting these ratings but the KNN model is still slightly favouring likes than dislikes"
   ]
  },
  {
   "cell_type": "markdown",
   "id": "7078ba0b",
   "metadata": {},
   "source": [
    "# 6. Tune the hyper-parameter K in KNN to see how it influences the prediction performance"
   ]
  },
  {
   "cell_type": "code",
   "execution_count": 18,
   "id": "265eedf6",
   "metadata": {},
   "outputs": [
    {
     "name": "stdout",
     "output_type": "stream",
     "text": [
      "Best Parameters: {'n_neighbors': 5}\n",
      "Best KNN Accuracy: 0.7318435754189944\n",
      "                    Predicted Dislike (0)  Predicted Like (1)\n",
      "Actual Dislike (0)                     91                  87\n",
      "Actual Like (1)                        57                 302\n"
     ]
    }
   ],
   "source": [
    "#Splitting and Training the Dataset\n",
    "X_data3 = data_numeric.drop(['timestamp', 'review', 'userId', 'rating'],axis=1)\n",
    "y_data3 = data_numeric['rating']\n",
    "X_train3, X_test3, y_train3, y_test3 = train_test_split(X_data3, y_data3, test_size=0.2, random_state=142)\n",
    "# parameter grid for KNN\n",
    "param_grid = {'n_neighbors':range(1,7)}\n",
    "   \n",
    "\n",
    "# training the model\n",
    "knn_classifier = KNeighborsClassifier()\n",
    "grid_search = GridSearchCV(estimator=knn_classifier, param_grid=param_grid, cv=5, scoring='accuracy')\n",
    "grid_search.fit(X_train3, y_train3)\n",
    "\n",
    "# Evaluation of the best KNN model with testing data\n",
    "best_knn_model = grid_search.best_estimator_\n",
    "best_knn_predictions = best_knn_model.predict(X_test3)\n",
    "best_knn_accuracy = accuracy_score(y_test3, best_knn_predictions)\n",
    "\n",
    "#Creation Of the Confusion Matrix For Best KNN\n",
    "confusion_matrix_bestknn = confusion_matrix(y_test3, best_knn_predictions)\n",
    "# Create a Pandas DataFrame from the confusion matrix\n",
    "confusion_df_bestknn = pd.DataFrame(confusion_matrix_bestknn, \n",
    "                                     columns=['Predicted Dislike (0)', 'Predicted Like (1)'], \n",
    "                                     index=['Actual Dislike (0)', 'Actual Like (1)']\n",
    "                                    )\n",
    "\n",
    "# Print the best parameters and accuracy\n",
    "print(\"Best Parameters:\", grid_search.best_params_)\n",
    "print(\"Best KNN Accuracy:\", best_knn_accuracy)\n",
    "print(confusion_df_bestknn)"
   ]
  },
  {
   "cell_type": "markdown",
   "id": "890e282d",
   "metadata": {},
   "source": [
    "The reason I decided to drop UserId is becasue dropping it gave me the best possible KNN hence why i dropped it"
   ]
  },
  {
   "cell_type": "markdown",
   "id": "95340129",
   "metadata": {},
   "source": [
    "# This is my Analysis to the best KNN model\n",
    "\n",
    "True Positives (TP): 302 - These are instances where the KNN model correctly predicted \"Like\" when the actual class was \"Like.\"\n",
    "\n",
    "True Negatives (TN): 91 - These are instances where the KNN model correctly predicted \"Dislike\" when the actual class was \"Dislike.\"\n",
    "\n",
    "False Positives (FP): 87 - These are instances where the KNN model incorrectly predicted \"Like\" when the actual class was \"Dislike.\" In other words, false alarms or Type I errors.\n",
    "\n",
    "False Negatives (FN): 57 - These are instances where the KNN model incorrectly predicted \"Dislike\" when the actual class was \"Like.\" In other words, missed opportunities or Type II errors.\n",
    "\n",
    "The accuracy of the KNN model is 0.7318435754189944, meaning it correctly predicted about 73.18% of the instances\n",
    "\n",
    "Overall this model is better than the last KNN model only by changing the k value from 7 to 5 meaning that the k value does greatly affect the accuracyy of the model during testing of this model when k=1 the accuracy dropped to as low as 65.55% as such the effect of the k value is undoubtedly seen__"
   ]
  },
  {
   "cell_type": "code",
   "execution_count": null,
   "id": "5536038f",
   "metadata": {},
   "outputs": [],
   "source": []
  }
 ],
 "metadata": {
  "colab": {
   "provenance": []
  },
  "kernelspec": {
   "display_name": "Python 3 (ipykernel)",
   "language": "python",
   "name": "python3"
  },
  "language_info": {
   "codemirror_mode": {
    "name": "ipython",
    "version": 3
   },
   "file_extension": ".py",
   "mimetype": "text/x-python",
   "name": "python",
   "nbconvert_exporter": "python",
   "pygments_lexer": "ipython3",
   "version": "3.11.3"
  }
 },
 "nbformat": 4,
 "nbformat_minor": 5
}
